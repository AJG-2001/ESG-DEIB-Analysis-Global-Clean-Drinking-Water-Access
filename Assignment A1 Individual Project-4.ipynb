{
  "nbformat": 4,
  "nbformat_minor": 0,
  "metadata": {
    "colab": {
      "provenance": []
    },
    "kernelspec": {
      "name": "python3",
      "display_name": "Python 3"
    },
    "language_info": {
      "name": "python"
    }
  },
  "cells": [
    {
      "cell_type": "markdown",
      "source": [
        "# **Predicting Access to Clean Drinking Water**\n",
        "##**ESG Issue:**\n",
        "### This analysis covers both Environmental (E) and Social (S) factors, as clean drinking water access is critical for public health, sanitation, and social equity (S) while also being influenced by water availability, infrastructure, and contamination risks (E).\n",
        "\n",
        "##**Objective of the Analysis:**\n",
        "\n",
        "### To analyze global access to clean drinking water using machine learning techniques. By using WHO/UNICEF JMP global dataset (Households) on water availability, infrastructure, and demographic factors, we look to predict which regions are most at risk of inadequate water access. The analysis will would also help policymakers and organizations develop data-driven interventions to address water scarcity and inequality.\n",
        "\n",
        "##**Data Source:**\n",
        "\n",
        "### https://washdata.org/data\n",
        "\n",
        "##**Student Name:**\n",
        "### Abi Joshua George (46656697)\n"
      ],
      "metadata": {
        "id": "dnxU0PLZLx3H"
      }
    },
    {
      "cell_type": "markdown",
      "source": [
        "#**Loading Libraries**"
      ],
      "metadata": {
        "id": "1KVmIR3zPh8r"
      }
    },
    {
      "cell_type": "code",
      "source": [
        "# Install required package (if not already installed)\n",
        "!pip install pycountry_convert"
      ],
      "metadata": {
        "colab": {
          "base_uri": "https://localhost:8080/"
        },
        "id": "sJ1CiTXkKHRq",
        "outputId": "2d0501d4-c87d-4e72-b1c6-d28773a347e0"
      },
      "execution_count": 1,
      "outputs": [
        {
          "output_type": "stream",
          "name": "stdout",
          "text": [
            "Collecting pycountry_convert\n",
            "  Downloading pycountry_convert-0.7.2-py3-none-any.whl.metadata (7.2 kB)\n",
            "Collecting pprintpp>=0.3.0 (from pycountry_convert)\n",
            "  Downloading pprintpp-0.4.0-py2.py3-none-any.whl.metadata (7.9 kB)\n",
            "Collecting pycountry>=16.11.27.1 (from pycountry_convert)\n",
            "  Downloading pycountry-24.6.1-py3-none-any.whl.metadata (12 kB)\n",
            "Requirement already satisfied: pytest>=3.4.0 in /usr/local/lib/python3.11/dist-packages (from pycountry_convert) (8.3.4)\n",
            "Collecting pytest-mock>=1.6.3 (from pycountry_convert)\n",
            "  Downloading pytest_mock-3.14.0-py3-none-any.whl.metadata (3.8 kB)\n",
            "Collecting pytest-cov>=2.5.1 (from pycountry_convert)\n",
            "  Downloading pytest_cov-6.0.0-py3-none-any.whl.metadata (27 kB)\n",
            "Collecting repoze.lru>=0.7 (from pycountry_convert)\n",
            "  Downloading repoze.lru-0.7-py3-none-any.whl.metadata (1.1 kB)\n",
            "Requirement already satisfied: wheel>=0.30.0 in /usr/local/lib/python3.11/dist-packages (from pycountry_convert) (0.45.1)\n",
            "Requirement already satisfied: iniconfig in /usr/local/lib/python3.11/dist-packages (from pytest>=3.4.0->pycountry_convert) (2.0.0)\n",
            "Requirement already satisfied: packaging in /usr/local/lib/python3.11/dist-packages (from pytest>=3.4.0->pycountry_convert) (24.2)\n",
            "Requirement already satisfied: pluggy<2,>=1.5 in /usr/local/lib/python3.11/dist-packages (from pytest>=3.4.0->pycountry_convert) (1.5.0)\n",
            "Collecting coverage>=7.5 (from coverage[toml]>=7.5->pytest-cov>=2.5.1->pycountry_convert)\n",
            "  Downloading coverage-7.6.12-cp311-cp311-manylinux_2_5_x86_64.manylinux1_x86_64.manylinux_2_17_x86_64.manylinux2014_x86_64.whl.metadata (8.5 kB)\n",
            "Downloading pycountry_convert-0.7.2-py3-none-any.whl (13 kB)\n",
            "Downloading pprintpp-0.4.0-py2.py3-none-any.whl (16 kB)\n",
            "Downloading pycountry-24.6.1-py3-none-any.whl (6.3 MB)\n",
            "\u001b[2K   \u001b[90m━━━━━━━━━━━━━━━━━━━━━━━━━━━━━━━━━━━━━━━━\u001b[0m \u001b[32m6.3/6.3 MB\u001b[0m \u001b[31m22.3 MB/s\u001b[0m eta \u001b[36m0:00:00\u001b[0m\n",
            "\u001b[?25hDownloading pytest_cov-6.0.0-py3-none-any.whl (22 kB)\n",
            "Downloading pytest_mock-3.14.0-py3-none-any.whl (9.9 kB)\n",
            "Downloading repoze.lru-0.7-py3-none-any.whl (10 kB)\n",
            "Downloading coverage-7.6.12-cp311-cp311-manylinux_2_5_x86_64.manylinux1_x86_64.manylinux_2_17_x86_64.manylinux2014_x86_64.whl (241 kB)\n",
            "\u001b[2K   \u001b[90m━━━━━━━━━━━━━━━━━━━━━━━━━━━━━━━━━━━━━━━━\u001b[0m \u001b[32m241.0/241.0 kB\u001b[0m \u001b[31m7.9 MB/s\u001b[0m eta \u001b[36m0:00:00\u001b[0m\n",
            "\u001b[?25hInstalling collected packages: repoze.lru, pprintpp, pycountry, coverage, pytest-mock, pytest-cov, pycountry_convert\n",
            "Successfully installed coverage-7.6.12 pprintpp-0.4.0 pycountry-24.6.1 pycountry_convert-0.7.2 pytest-cov-6.0.0 pytest-mock-3.14.0 repoze.lru-0.7\n"
          ]
        }
      ]
    },
    {
      "cell_type": "code",
      "execution_count": 2,
      "metadata": {
        "id": "6ig2sI35LcoN"
      },
      "outputs": [],
      "source": [
        "# Basic Libraries\n",
        "import numpy as np\n",
        "import pandas as pd\n",
        "\n",
        "# For Data Visualization\n",
        "import matplotlib.pyplot as plt\n",
        "import seaborn as sns\n",
        "\n",
        "# For Handling Missing Values\n",
        "from sklearn.impute import SimpleImputer\n",
        "\n",
        "# For Feature Scaling\n",
        "from sklearn.preprocessing import StandardScaler, MinMaxScaler, OneHotEncoder\n",
        "\n",
        "# For converting Countires to Continents\n",
        "from pycountry_convert import country_name_to_country_alpha2, country_alpha2_to_continent_code, convert_continent_code_to_continent_name\n",
        "\n",
        "# For Machine Learning Models\n",
        "from sklearn.model_selection import train_test_split\n",
        "from sklearn.linear_model import LinearRegression, LogisticRegression\n",
        "from sklearn.tree import DecisionTreeClassifier, DecisionTreeRegressor\n",
        "from sklearn.ensemble import RandomForestClassifier, RandomForestRegressor\n",
        "from sklearn.cluster import KMeans, DBSCAN\n",
        "from sklearn.decomposition import PCA\n",
        "from sklearn.neighbors import KNeighborsRegressor, KNeighborsClassifier\n",
        "from scipy.cluster.hierarchy import dendrogram, linkage\n",
        "\n",
        "# For Model Evaluation\n",
        "from sklearn.metrics import accuracy_score, classification_report, silhouette_score, mean_squared_error, mean_absolute_error, r2_score, confusion_matrix, silhouette_score"
      ]
    },
    {
      "cell_type": "markdown",
      "source": [
        "# **Loading the Dataset**"
      ],
      "metadata": {
        "id": "1H8_g8EKQuHb"
      }
    },
    {
      "cell_type": "code",
      "source": [
        "# Loading the dataset\n",
        "df = pd.read_csv(\"clean_drinking_water-4.csv\")\n",
        "\n",
        "# Displaying the first few rows to verify\n",
        "df.head()"
      ],
      "metadata": {
        "colab": {
          "base_uri": "https://localhost:8080/",
          "height": 226
        },
        "id": "_bRjBqvAtxDX",
        "outputId": "7a2b3e0d-2546-4f7c-da67-8c6a78ac86a0"
      },
      "execution_count": 4,
      "outputs": [
        {
          "output_type": "execute_result",
          "data": {
            "text/plain": [
              "       Country ISO3    Year  Population_Thousands  Urban_Percentage  \\\n",
              "0  Afghanistan  AFG  2000.0             19542.982         22.078001   \n",
              "1  Afghanistan  AFG  2001.0             19688.632         22.169001   \n",
              "2  Afghanistan  AFG  2002.0             21000.256         22.260998   \n",
              "3  Afghanistan  AFG  2003.0             22645.130         22.352999   \n",
              "4  Afghanistan  AFG  2004.0             23553.551         22.500000   \n",
              "\n",
              "   Rural_At_Least_Basic  Rural_Limited  Rural_Unimproved  Rural_Surface_Water  \\\n",
              "0             19.745178       3.134352         47.091285            30.029184   \n",
              "1             19.745178       3.134352         47.091285            30.029184   \n",
              "2             21.981893       3.489409         45.528727            28.999972   \n",
              "3             24.218607       3.844465         43.966168            27.970760   \n",
              "4             26.455321       4.199522         42.403610            26.941547   \n",
              "\n",
              "   Annual_Change_Basic  Safely_Managed_Available  \\\n",
              "0                  NaN                  3.881026   \n",
              "1                  NaN                  3.881026   \n",
              "2                  NaN                  4.018444   \n",
              "3                  NaN                  4.155862   \n",
              "4                  NaN                  4.293279   \n",
              "\n",
              "   Safely_Managed_Contamination_Free  Piped_Water  Non_Piped_Water  \\\n",
              "0                          32.440917     9.071579              NaN   \n",
              "1                          32.440917     9.071579              NaN   \n",
              "2                          30.846839     8.594757              NaN   \n",
              "3                          29.252761     8.117936              NaN   \n",
              "4                          27.658683     7.641115              NaN   \n",
              "\n",
              "          SDG_Region         WHO_Region UNICEF_Reporting_Region  \n",
              "0  3.299203087763079  43.85677699732687     -0.7590817809104919  \n",
              "1  3.299882622392103  43.84344412729671     -0.7590817809104919  \n",
              "2  3.607177205556275  42.26039350298537     -0.7590817809104919  \n",
              "3  3.914071507878746  40.67728187353875     -0.7590817809104919  \n",
              "4  4.220616980978035   39.0860017596566     -0.7590817809104919  "
            ],
            "text/html": [
              "\n",
              "  <div id=\"df-9d770dbe-257e-47df-b592-0a757965d879\" class=\"colab-df-container\">\n",
              "    <div>\n",
              "<style scoped>\n",
              "    .dataframe tbody tr th:only-of-type {\n",
              "        vertical-align: middle;\n",
              "    }\n",
              "\n",
              "    .dataframe tbody tr th {\n",
              "        vertical-align: top;\n",
              "    }\n",
              "\n",
              "    .dataframe thead th {\n",
              "        text-align: right;\n",
              "    }\n",
              "</style>\n",
              "<table border=\"1\" class=\"dataframe\">\n",
              "  <thead>\n",
              "    <tr style=\"text-align: right;\">\n",
              "      <th></th>\n",
              "      <th>Country</th>\n",
              "      <th>ISO3</th>\n",
              "      <th>Year</th>\n",
              "      <th>Population_Thousands</th>\n",
              "      <th>Urban_Percentage</th>\n",
              "      <th>Rural_At_Least_Basic</th>\n",
              "      <th>Rural_Limited</th>\n",
              "      <th>Rural_Unimproved</th>\n",
              "      <th>Rural_Surface_Water</th>\n",
              "      <th>Annual_Change_Basic</th>\n",
              "      <th>Safely_Managed_Available</th>\n",
              "      <th>Safely_Managed_Contamination_Free</th>\n",
              "      <th>Piped_Water</th>\n",
              "      <th>Non_Piped_Water</th>\n",
              "      <th>SDG_Region</th>\n",
              "      <th>WHO_Region</th>\n",
              "      <th>UNICEF_Reporting_Region</th>\n",
              "    </tr>\n",
              "  </thead>\n",
              "  <tbody>\n",
              "    <tr>\n",
              "      <th>0</th>\n",
              "      <td>Afghanistan</td>\n",
              "      <td>AFG</td>\n",
              "      <td>2000.0</td>\n",
              "      <td>19542.982</td>\n",
              "      <td>22.078001</td>\n",
              "      <td>19.745178</td>\n",
              "      <td>3.134352</td>\n",
              "      <td>47.091285</td>\n",
              "      <td>30.029184</td>\n",
              "      <td>NaN</td>\n",
              "      <td>3.881026</td>\n",
              "      <td>32.440917</td>\n",
              "      <td>9.071579</td>\n",
              "      <td>NaN</td>\n",
              "      <td>3.299203087763079</td>\n",
              "      <td>43.85677699732687</td>\n",
              "      <td>-0.7590817809104919</td>\n",
              "    </tr>\n",
              "    <tr>\n",
              "      <th>1</th>\n",
              "      <td>Afghanistan</td>\n",
              "      <td>AFG</td>\n",
              "      <td>2001.0</td>\n",
              "      <td>19688.632</td>\n",
              "      <td>22.169001</td>\n",
              "      <td>19.745178</td>\n",
              "      <td>3.134352</td>\n",
              "      <td>47.091285</td>\n",
              "      <td>30.029184</td>\n",
              "      <td>NaN</td>\n",
              "      <td>3.881026</td>\n",
              "      <td>32.440917</td>\n",
              "      <td>9.071579</td>\n",
              "      <td>NaN</td>\n",
              "      <td>3.299882622392103</td>\n",
              "      <td>43.84344412729671</td>\n",
              "      <td>-0.7590817809104919</td>\n",
              "    </tr>\n",
              "    <tr>\n",
              "      <th>2</th>\n",
              "      <td>Afghanistan</td>\n",
              "      <td>AFG</td>\n",
              "      <td>2002.0</td>\n",
              "      <td>21000.256</td>\n",
              "      <td>22.260998</td>\n",
              "      <td>21.981893</td>\n",
              "      <td>3.489409</td>\n",
              "      <td>45.528727</td>\n",
              "      <td>28.999972</td>\n",
              "      <td>NaN</td>\n",
              "      <td>4.018444</td>\n",
              "      <td>30.846839</td>\n",
              "      <td>8.594757</td>\n",
              "      <td>NaN</td>\n",
              "      <td>3.607177205556275</td>\n",
              "      <td>42.26039350298537</td>\n",
              "      <td>-0.7590817809104919</td>\n",
              "    </tr>\n",
              "    <tr>\n",
              "      <th>3</th>\n",
              "      <td>Afghanistan</td>\n",
              "      <td>AFG</td>\n",
              "      <td>2003.0</td>\n",
              "      <td>22645.130</td>\n",
              "      <td>22.352999</td>\n",
              "      <td>24.218607</td>\n",
              "      <td>3.844465</td>\n",
              "      <td>43.966168</td>\n",
              "      <td>27.970760</td>\n",
              "      <td>NaN</td>\n",
              "      <td>4.155862</td>\n",
              "      <td>29.252761</td>\n",
              "      <td>8.117936</td>\n",
              "      <td>NaN</td>\n",
              "      <td>3.914071507878746</td>\n",
              "      <td>40.67728187353875</td>\n",
              "      <td>-0.7590817809104919</td>\n",
              "    </tr>\n",
              "    <tr>\n",
              "      <th>4</th>\n",
              "      <td>Afghanistan</td>\n",
              "      <td>AFG</td>\n",
              "      <td>2004.0</td>\n",
              "      <td>23553.551</td>\n",
              "      <td>22.500000</td>\n",
              "      <td>26.455321</td>\n",
              "      <td>4.199522</td>\n",
              "      <td>42.403610</td>\n",
              "      <td>26.941547</td>\n",
              "      <td>NaN</td>\n",
              "      <td>4.293279</td>\n",
              "      <td>27.658683</td>\n",
              "      <td>7.641115</td>\n",
              "      <td>NaN</td>\n",
              "      <td>4.220616980978035</td>\n",
              "      <td>39.0860017596566</td>\n",
              "      <td>-0.7590817809104919</td>\n",
              "    </tr>\n",
              "  </tbody>\n",
              "</table>\n",
              "</div>\n",
              "    <div class=\"colab-df-buttons\">\n",
              "\n",
              "  <div class=\"colab-df-container\">\n",
              "    <button class=\"colab-df-convert\" onclick=\"convertToInteractive('df-9d770dbe-257e-47df-b592-0a757965d879')\"\n",
              "            title=\"Convert this dataframe to an interactive table.\"\n",
              "            style=\"display:none;\">\n",
              "\n",
              "  <svg xmlns=\"http://www.w3.org/2000/svg\" height=\"24px\" viewBox=\"0 -960 960 960\">\n",
              "    <path d=\"M120-120v-720h720v720H120Zm60-500h600v-160H180v160Zm220 220h160v-160H400v160Zm0 220h160v-160H400v160ZM180-400h160v-160H180v160Zm440 0h160v-160H620v160ZM180-180h160v-160H180v160Zm440 0h160v-160H620v160Z\"/>\n",
              "  </svg>\n",
              "    </button>\n",
              "\n",
              "  <style>\n",
              "    .colab-df-container {\n",
              "      display:flex;\n",
              "      gap: 12px;\n",
              "    }\n",
              "\n",
              "    .colab-df-convert {\n",
              "      background-color: #E8F0FE;\n",
              "      border: none;\n",
              "      border-radius: 50%;\n",
              "      cursor: pointer;\n",
              "      display: none;\n",
              "      fill: #1967D2;\n",
              "      height: 32px;\n",
              "      padding: 0 0 0 0;\n",
              "      width: 32px;\n",
              "    }\n",
              "\n",
              "    .colab-df-convert:hover {\n",
              "      background-color: #E2EBFA;\n",
              "      box-shadow: 0px 1px 2px rgba(60, 64, 67, 0.3), 0px 1px 3px 1px rgba(60, 64, 67, 0.15);\n",
              "      fill: #174EA6;\n",
              "    }\n",
              "\n",
              "    .colab-df-buttons div {\n",
              "      margin-bottom: 4px;\n",
              "    }\n",
              "\n",
              "    [theme=dark] .colab-df-convert {\n",
              "      background-color: #3B4455;\n",
              "      fill: #D2E3FC;\n",
              "    }\n",
              "\n",
              "    [theme=dark] .colab-df-convert:hover {\n",
              "      background-color: #434B5C;\n",
              "      box-shadow: 0px 1px 3px 1px rgba(0, 0, 0, 0.15);\n",
              "      filter: drop-shadow(0px 1px 2px rgba(0, 0, 0, 0.3));\n",
              "      fill: #FFFFFF;\n",
              "    }\n",
              "  </style>\n",
              "\n",
              "    <script>\n",
              "      const buttonEl =\n",
              "        document.querySelector('#df-9d770dbe-257e-47df-b592-0a757965d879 button.colab-df-convert');\n",
              "      buttonEl.style.display =\n",
              "        google.colab.kernel.accessAllowed ? 'block' : 'none';\n",
              "\n",
              "      async function convertToInteractive(key) {\n",
              "        const element = document.querySelector('#df-9d770dbe-257e-47df-b592-0a757965d879');\n",
              "        const dataTable =\n",
              "          await google.colab.kernel.invokeFunction('convertToInteractive',\n",
              "                                                    [key], {});\n",
              "        if (!dataTable) return;\n",
              "\n",
              "        const docLinkHtml = 'Like what you see? Visit the ' +\n",
              "          '<a target=\"_blank\" href=https://colab.research.google.com/notebooks/data_table.ipynb>data table notebook</a>'\n",
              "          + ' to learn more about interactive tables.';\n",
              "        element.innerHTML = '';\n",
              "        dataTable['output_type'] = 'display_data';\n",
              "        await google.colab.output.renderOutput(dataTable, element);\n",
              "        const docLink = document.createElement('div');\n",
              "        docLink.innerHTML = docLinkHtml;\n",
              "        element.appendChild(docLink);\n",
              "      }\n",
              "    </script>\n",
              "  </div>\n",
              "\n",
              "\n",
              "<div id=\"df-92944caa-f630-443b-b67b-f78dd111445a\">\n",
              "  <button class=\"colab-df-quickchart\" onclick=\"quickchart('df-92944caa-f630-443b-b67b-f78dd111445a')\"\n",
              "            title=\"Suggest charts\"\n",
              "            style=\"display:none;\">\n",
              "\n",
              "<svg xmlns=\"http://www.w3.org/2000/svg\" height=\"24px\"viewBox=\"0 0 24 24\"\n",
              "     width=\"24px\">\n",
              "    <g>\n",
              "        <path d=\"M19 3H5c-1.1 0-2 .9-2 2v14c0 1.1.9 2 2 2h14c1.1 0 2-.9 2-2V5c0-1.1-.9-2-2-2zM9 17H7v-7h2v7zm4 0h-2V7h2v10zm4 0h-2v-4h2v4z\"/>\n",
              "    </g>\n",
              "</svg>\n",
              "  </button>\n",
              "\n",
              "<style>\n",
              "  .colab-df-quickchart {\n",
              "      --bg-color: #E8F0FE;\n",
              "      --fill-color: #1967D2;\n",
              "      --hover-bg-color: #E2EBFA;\n",
              "      --hover-fill-color: #174EA6;\n",
              "      --disabled-fill-color: #AAA;\n",
              "      --disabled-bg-color: #DDD;\n",
              "  }\n",
              "\n",
              "  [theme=dark] .colab-df-quickchart {\n",
              "      --bg-color: #3B4455;\n",
              "      --fill-color: #D2E3FC;\n",
              "      --hover-bg-color: #434B5C;\n",
              "      --hover-fill-color: #FFFFFF;\n",
              "      --disabled-bg-color: #3B4455;\n",
              "      --disabled-fill-color: #666;\n",
              "  }\n",
              "\n",
              "  .colab-df-quickchart {\n",
              "    background-color: var(--bg-color);\n",
              "    border: none;\n",
              "    border-radius: 50%;\n",
              "    cursor: pointer;\n",
              "    display: none;\n",
              "    fill: var(--fill-color);\n",
              "    height: 32px;\n",
              "    padding: 0;\n",
              "    width: 32px;\n",
              "  }\n",
              "\n",
              "  .colab-df-quickchart:hover {\n",
              "    background-color: var(--hover-bg-color);\n",
              "    box-shadow: 0 1px 2px rgba(60, 64, 67, 0.3), 0 1px 3px 1px rgba(60, 64, 67, 0.15);\n",
              "    fill: var(--button-hover-fill-color);\n",
              "  }\n",
              "\n",
              "  .colab-df-quickchart-complete:disabled,\n",
              "  .colab-df-quickchart-complete:disabled:hover {\n",
              "    background-color: var(--disabled-bg-color);\n",
              "    fill: var(--disabled-fill-color);\n",
              "    box-shadow: none;\n",
              "  }\n",
              "\n",
              "  .colab-df-spinner {\n",
              "    border: 2px solid var(--fill-color);\n",
              "    border-color: transparent;\n",
              "    border-bottom-color: var(--fill-color);\n",
              "    animation:\n",
              "      spin 1s steps(1) infinite;\n",
              "  }\n",
              "\n",
              "  @keyframes spin {\n",
              "    0% {\n",
              "      border-color: transparent;\n",
              "      border-bottom-color: var(--fill-color);\n",
              "      border-left-color: var(--fill-color);\n",
              "    }\n",
              "    20% {\n",
              "      border-color: transparent;\n",
              "      border-left-color: var(--fill-color);\n",
              "      border-top-color: var(--fill-color);\n",
              "    }\n",
              "    30% {\n",
              "      border-color: transparent;\n",
              "      border-left-color: var(--fill-color);\n",
              "      border-top-color: var(--fill-color);\n",
              "      border-right-color: var(--fill-color);\n",
              "    }\n",
              "    40% {\n",
              "      border-color: transparent;\n",
              "      border-right-color: var(--fill-color);\n",
              "      border-top-color: var(--fill-color);\n",
              "    }\n",
              "    60% {\n",
              "      border-color: transparent;\n",
              "      border-right-color: var(--fill-color);\n",
              "    }\n",
              "    80% {\n",
              "      border-color: transparent;\n",
              "      border-right-color: var(--fill-color);\n",
              "      border-bottom-color: var(--fill-color);\n",
              "    }\n",
              "    90% {\n",
              "      border-color: transparent;\n",
              "      border-bottom-color: var(--fill-color);\n",
              "    }\n",
              "  }\n",
              "</style>\n",
              "\n",
              "  <script>\n",
              "    async function quickchart(key) {\n",
              "      const quickchartButtonEl =\n",
              "        document.querySelector('#' + key + ' button');\n",
              "      quickchartButtonEl.disabled = true;  // To prevent multiple clicks.\n",
              "      quickchartButtonEl.classList.add('colab-df-spinner');\n",
              "      try {\n",
              "        const charts = await google.colab.kernel.invokeFunction(\n",
              "            'suggestCharts', [key], {});\n",
              "      } catch (error) {\n",
              "        console.error('Error during call to suggestCharts:', error);\n",
              "      }\n",
              "      quickchartButtonEl.classList.remove('colab-df-spinner');\n",
              "      quickchartButtonEl.classList.add('colab-df-quickchart-complete');\n",
              "    }\n",
              "    (() => {\n",
              "      let quickchartButtonEl =\n",
              "        document.querySelector('#df-92944caa-f630-443b-b67b-f78dd111445a button');\n",
              "      quickchartButtonEl.style.display =\n",
              "        google.colab.kernel.accessAllowed ? 'block' : 'none';\n",
              "    })();\n",
              "  </script>\n",
              "</div>\n",
              "\n",
              "    </div>\n",
              "  </div>\n"
            ],
            "application/vnd.google.colaboratory.intrinsic+json": {
              "type": "dataframe",
              "variable_name": "df",
              "summary": "{\n  \"name\": \"df\",\n  \"rows\": 5997,\n  \"fields\": [\n    {\n      \"column\": \"Country\",\n      \"properties\": {\n        \"dtype\": \"category\",\n        \"num_unique_values\": 233,\n        \"samples\": [\n          \"Greenland\",\n          \"Uganda\",\n          \"Zambia\"\n        ],\n        \"semantic_type\": \"\",\n        \"description\": \"\"\n      }\n    },\n    {\n      \"column\": \"ISO3\",\n      \"properties\": {\n        \"dtype\": \"category\",\n        \"num_unique_values\": 233,\n        \"samples\": [\n          \"GRL\",\n          \"UGA\",\n          \"ZMB\"\n        ],\n        \"semantic_type\": \"\",\n        \"description\": \"\"\n      }\n    },\n    {\n      \"column\": \"Year\",\n      \"properties\": {\n        \"dtype\": \"number\",\n        \"std\": 6.63386855608477,\n        \"min\": 2000.0,\n        \"max\": 2022.0,\n        \"num_unique_values\": 23,\n        \"samples\": [\n          2015.0,\n          2009.0,\n          2000.0\n        ],\n        \"semantic_type\": \"\",\n        \"description\": \"\"\n      }\n    },\n    {\n      \"column\": \"Population_Thousands\",\n      \"properties\": {\n        \"dtype\": \"number\",\n        \"std\": 126742.78004943904,\n        \"min\": 0.51,\n        \"max\": 1449780.731,\n        \"num_unique_values\": 5331,\n        \"samples\": [\n          30.877,\n          19.512,\n          100.341\n        ],\n        \"semantic_type\": \"\",\n        \"description\": \"\"\n      }\n    },\n    {\n      \"column\": \"Urban_Percentage\",\n      \"properties\": {\n        \"dtype\": \"number\",\n        \"std\": 25.109316679825668,\n        \"min\": 0.0,\n        \"max\": 100.0000076293945,\n        \"num_unique_values\": 4859,\n        \"samples\": [\n          53.07600021362305,\n          68.41400146484375,\n          71.60900115966797\n        ],\n        \"semantic_type\": \"\",\n        \"description\": \"\"\n      }\n    },\n    {\n      \"column\": \"Rural_At_Least_Basic\",\n      \"properties\": {\n        \"dtype\": \"number\",\n        \"std\": 23.415014989172132,\n        \"min\": 5.685181941654254,\n        \"max\": 98.999420694051,\n        \"num_unique_values\": 2860,\n        \"samples\": [\n          59.4526463744249,\n          50.81898181207644,\n          97.54165640881268\n        ],\n        \"semantic_type\": \"\",\n        \"description\": \"\"\n      }\n    },\n    {\n      \"column\": \"Rural_Limited\",\n      \"properties\": {\n        \"dtype\": \"number\",\n        \"std\": 7.673071483533902,\n        \"min\": 1.000954428856119,\n        \"max\": 42.16438068151287,\n        \"num_unique_values\": 2198,\n        \"samples\": [\n          4.054434447393064,\n          2.256090742832967,\n          11.12279378585745\n        ],\n        \"semantic_type\": \"\",\n        \"description\": \"\"\n      }\n    },\n    {\n      \"column\": \"Rural_Unimproved\",\n      \"properties\": {\n        \"dtype\": \"number\",\n        \"std\": 13.535047817799688,\n        \"min\": 1.000579305949003,\n        \"max\": 66.1544802696335,\n        \"num_unique_values\": 2721,\n        \"samples\": [\n          33.54321431557901,\n          23.24272036465402,\n          2.740460063897579\n        ],\n        \"semantic_type\": \"\",\n        \"description\": \"\"\n      }\n    },\n    {\n      \"column\": \"Rural_Surface_Water\",\n      \"properties\": {\n        \"dtype\": \"number\",\n        \"std\": 10.563195308361072,\n        \"min\": 1.01102208480566,\n        \"max\": 56.42397144429742,\n        \"num_unique_values\": 1924,\n        \"samples\": [\n          1.230281449340652,\n          12.21291582889307,\n          14.90717513005802\n        ],\n        \"semantic_type\": \"\",\n        \"description\": \"\"\n      }\n    },\n    {\n      \"column\": \"Annual_Change_Basic\",\n      \"properties\": {\n        \"dtype\": \"number\",\n        \"std\": 1.3825159831761442,\n        \"min\": -2.961997985839844,\n        \"max\": 3.39720630645752,\n        \"num_unique_values\": 113,\n        \"samples\": [\n          1.093305468559265,\n          -0.0750474408268928,\n          3.39720630645752\n        ],\n        \"semantic_type\": \"\",\n        \"description\": \"\"\n      }\n    },\n    {\n      \"column\": \"Safely_Managed_Available\",\n      \"properties\": {\n        \"dtype\": \"number\",\n        \"std\": 5.864585605104787,\n        \"min\": 1.010967621519953,\n        \"max\": 35.66214179791116,\n        \"num_unique_values\": 1769,\n        \"samples\": [\n          5.815145206429747,\n          7.913345169422882,\n          2.225110322335112\n        ],\n        \"semantic_type\": \"\",\n        \"description\": \"\"\n      }\n    },\n    {\n      \"column\": \"Safely_Managed_Contamination_Free\",\n      \"properties\": {\n        \"dtype\": \"number\",\n        \"std\": 4.908576431589966,\n        \"min\": 1.001796501878573,\n        \"max\": 32.44091741127386,\n        \"num_unique_values\": 2046,\n        \"samples\": [\n          20.40375929630372,\n          2.205789578427158,\n          4.315031601428664\n        ],\n        \"semantic_type\": \"\",\n        \"description\": \"\"\n      }\n    },\n    {\n      \"column\": \"Piped_Water\",\n      \"properties\": {\n        \"dtype\": \"number\",\n        \"std\": 2.260322734324848,\n        \"min\": 1.0023519639571,\n        \"max\": 13.69135070362427,\n        \"num_unique_values\": 683,\n        \"samples\": [\n          2.856862291700509,\n          4.190701818181878,\n          2.893998144125987\n        ],\n        \"semantic_type\": \"\",\n        \"description\": \"\"\n      }\n    },\n    {\n      \"column\": \"Non_Piped_Water\",\n      \"properties\": {\n        \"dtype\": \"number\",\n        \"std\": 0.5486440777414981,\n        \"min\": -1.362831592559814,\n        \"max\": 2.259825944900513,\n        \"num_unique_values\": 127,\n        \"samples\": [\n          0.0,\n          -0.3818112909793854,\n          0.0431505069136619\n        ],\n        \"semantic_type\": \"\",\n        \"description\": \"\"\n      }\n    },\n    {\n      \"column\": \"SDG_Region\",\n      \"properties\": {\n        \"dtype\": \"category\",\n        \"num_unique_values\": 2244,\n        \"samples\": [\n          \"4.064017178519563\",\n          \"13.51693936251248\",\n          \"1.154206644728872\"\n        ],\n        \"semantic_type\": \"\",\n        \"description\": \"\"\n      }\n    },\n    {\n      \"column\": \"WHO_Region\",\n      \"properties\": {\n        \"dtype\": \"string\",\n        \"num_unique_values\": 3084,\n        \"samples\": [\n          \"10.55050080930816\",\n          \"3.920076284413298\",\n          \"7.891229615841581\"\n        ],\n        \"semantic_type\": \"\",\n        \"description\": \"\"\n      }\n    },\n    {\n      \"column\": \"UNICEF_Reporting_Region\",\n      \"properties\": {\n        \"dtype\": \"category\",\n        \"num_unique_values\": 182,\n        \"samples\": [\n          \"-0.02491032518446445\",\n          \"0.7218635082244873\",\n          \"-1.591193556785583\"\n        ],\n        \"semantic_type\": \"\",\n        \"description\": \"\"\n      }\n    }\n  ]\n}"
            }
          },
          "metadata": {},
          "execution_count": 4
        }
      ]
    },
    {
      "cell_type": "code",
      "source": [
        "# Checking basic info about the dataset\n",
        "df.info()\n",
        "\n",
        "# Checking for missing values\n",
        "df.isnull().sum()"
      ],
      "metadata": {
        "id": "xpdTI97003Qr"
      },
      "execution_count": null,
      "outputs": []
    },
    {
      "cell_type": "markdown",
      "source": [
        "# **Data Cleaning**"
      ],
      "metadata": {
        "id": "jOg3WaODRkvG"
      }
    },
    {
      "cell_type": "markdown",
      "source": [
        "### **Handling Missing Values:**"
      ],
      "metadata": {
        "id": "rCtXR-al4hHx"
      }
    },
    {
      "cell_type": "code",
      "source": [
        "# Dropping rows where essential fields are missing\n",
        "df_cleaned = df.dropna(subset=[\"Country\", \"ISO3\", \"Year\"]).copy()\n",
        "\n",
        "# Imputing missing numerical values using median\n",
        "num_cols_to_impute = [\n",
        "    \"Rural_At_Least_Basic\", \"Rural_Limited\", \"Rural_Unimproved\",\n",
        "    \"Annual_Change_Basic\", \"Safely_Managed_Available\", \"Safely_Managed_Contamination_Free\",\n",
        "    \"Piped_Water\", \"Non_Piped_Water\"\n",
        "]\n",
        "\n",
        "for col in num_cols_to_impute:\n",
        "    df_cleaned[col] = df_cleaned[col].fillna(df_cleaned[col].median())\n",
        "\n",
        "# Dropping or Imputing Highly Sparse Columns\n",
        "sparse_cols = [\"Rural_Surface_Water\", \"Annual_Change_Basic\"]\n",
        "\n",
        "for col in sparse_cols:\n",
        "    if df_cleaned[col].isnull().sum() / len(df_cleaned) > 0.5:  # In case more than 50% is missing\n",
        "        df_cleaned = df_cleaned.drop(columns=[col])\n",
        "    else:\n",
        "        df_cleaned[col] = df_cleaned[col].fillna(df_cleaned[col].median())\n",
        "\n",
        "# Checking if missing values are resolved\n",
        "df_cleaned.isnull().sum()\n"
      ],
      "metadata": {
        "id": "wy7OIZse2Pee"
      },
      "execution_count": null,
      "outputs": []
    },
    {
      "cell_type": "markdown",
      "source": [
        "### **Fixing remaining missing values & Converting Data Types:**"
      ],
      "metadata": {
        "id": "agIbH-ex6PJK"
      }
    },
    {
      "cell_type": "code",
      "source": [
        "# Imputing the remaining missing values with median\n",
        "df_cleaned[\"Population_Thousands\"] = df_cleaned[\"Population_Thousands\"].fillna(df_cleaned[\"Population_Thousands\"].median())\n",
        "df_cleaned[\"Urban_Percentage\"] = df_cleaned[\"Urban_Percentage\"].fillna(df_cleaned[\"Urban_Percentage\"].median())\n",
        "\n",
        "# Converting 'Year' and 'Population_Thousands' to integer data type\n",
        "df_cleaned[\"Year\"] = df_cleaned[\"Year\"].astype(int)\n",
        "df_cleaned[\"Population_Thousands\"] = df_cleaned[\"Population_Thousands\"].astype(int)\n",
        "\n",
        "# Converting categorical regions into string categories\n",
        "categorical_cols = [\"SDG_Region\", \"WHO_Region\", \"UNICEF_Reporting_Region\"]\n",
        "df_cleaned[categorical_cols] = df_cleaned[categorical_cols].astype(str)\n",
        "\n",
        "# Verifying missing values and data types\n",
        "print(df_cleaned.isnull().sum())  # To ensure no missing values are left\n",
        "df_cleaned.dtypes  # To verify correct data types\n"
      ],
      "metadata": {
        "id": "tj-n1piO3JoC"
      },
      "execution_count": null,
      "outputs": []
    },
    {
      "cell_type": "markdown",
      "source": [
        "### **Detecting & Handling Outliers:**"
      ],
      "metadata": {
        "id": "w84qCWt26cTP"
      }
    },
    {
      "cell_type": "code",
      "source": [
        "# Selecting only numerical columns for outlier detection\n",
        "num_cols = [\n",
        "    \"Population_Thousands\", \"Urban_Percentage\", \"Rural_At_Least_Basic\",\n",
        "    \"Rural_Limited\", \"Rural_Unimproved\", \"Annual_Change_Basic\",\n",
        "    \"Safely_Managed_Available\", \"Safely_Managed_Contamination_Free\",\n",
        "    \"Piped_Water\", \"Non_Piped_Water\"\n",
        "]\n",
        "\n",
        "# Plottting boxplots to visualize outliers\n",
        "plt.figure(figsize=(15,8))\n",
        "df_cleaned[num_cols].boxplot(rot=45)\n",
        "plt.title(\"Boxplot for Outlier Detection\")\n",
        "plt.show()"
      ],
      "metadata": {
        "id": "7AyspCXX6kQg"
      },
      "execution_count": null,
      "outputs": []
    },
    {
      "cell_type": "markdown",
      "source": [
        "### **Fixing outliers using capping (Winsorization):**"
      ],
      "metadata": {
        "id": "6ahoUQJu7X5-"
      }
    },
    {
      "cell_type": "code",
      "source": [
        "# Defining the function to cap outliers\n",
        "def cap_outliers(df, cols, lower_percentile=5, upper_percentile=95):\n",
        "    for col in cols:\n",
        "        lower_bound = df[col].quantile(lower_percentile / 100)\n",
        "        upper_bound = df[col].quantile(upper_percentile / 100)\n",
        "        df[col] = df[col].clip(lower_bound, upper_bound)\n",
        "    return df\n",
        "\n",
        "# Applying capping to only numerical columns\n",
        "df_cleaned = cap_outliers(df_cleaned, num_cols)\n",
        "\n",
        "# Verifying whether the outliers are handled\n",
        "plt.figure(figsize=(15,8))\n",
        "df_cleaned[num_cols].boxplot(rot=45)\n",
        "plt.title(\"Boxplot After Handling Outliers\")\n",
        "plt.show()\n"
      ],
      "metadata": {
        "id": "_OWqMtK17LMI"
      },
      "execution_count": null,
      "outputs": []
    },
    {
      "cell_type": "markdown",
      "source": [
        "# **Exploratory Data Analysis (EDA)**"
      ],
      "metadata": {
        "id": "3XYkdD5gWYOB"
      }
    },
    {
      "cell_type": "code",
      "source": [
        "# Displaying the summary statistics for numerical columns\n",
        "df_cleaned.describe()"
      ],
      "metadata": {
        "id": "1-n-c2LN70Rj"
      },
      "execution_count": null,
      "outputs": []
    },
    {
      "cell_type": "markdown",
      "source": [
        "### **Key Insights from Summary Statistics:**\n",
        "**Population Sizes Vary Greatly,**\n",
        "\n",
        "**Mean:** 16,794,000 people per country.\n",
        "\n",
        "**Max:** 103 million which suggests some large nations are included.\n",
        "\n",
        "**Min:** 14, indicating smaller regions are included.\n",
        "\n",
        "\n",
        "**Water Access Distribution,**\n",
        "\n",
        "**Rural_At_Least_Basic:** Mean = 74%, but some regions have as low as 33.86% access.\n",
        "\n",
        "**Safely_Managed_Available:** Mean = 4.97%, suggesting very few countries have fully safe drinking water."
      ],
      "metadata": {
        "id": "kdKgBY65-YEC"
      }
    },
    {
      "cell_type": "code",
      "source": [
        "# Counting the number of unique values in the categorical columns\n",
        "df_cleaned[[\"SDG_Region\", \"WHO_Region\", \"UNICEF_Reporting_Region\"]].nunique()"
      ],
      "metadata": {
        "id": "10NvWalu8p36"
      },
      "execution_count": null,
      "outputs": []
    },
    {
      "cell_type": "markdown",
      "source": [
        "### **Histogram to View Distributions:**"
      ],
      "metadata": {
        "id": "6R8AoqNCBB47"
      }
    },
    {
      "cell_type": "code",
      "source": [
        "# Selecting only numerical columns for visualization\n",
        "num_cols = [\n",
        "    \"Urban_Percentage\", \"Rural_At_Least_Basic\", \"Safely_Managed_Available\",\n",
        "    \"Safely_Managed_Contamination_Free\", \"Piped_Water\", \"Non_Piped_Water\"\n",
        "]\n",
        "\n",
        "# Plotting multiple histograms for numerical features\n",
        "df_cleaned[num_cols].hist(figsize=(12, 8), bins=20, edgecolor='black')\n",
        "plt.suptitle(\"Distribution of Water Access Features\")\n",
        "plt.show()\n"
      ],
      "metadata": {
        "id": "s7sE2mbk9OMs"
      },
      "execution_count": null,
      "outputs": []
    },
    {
      "cell_type": "markdown",
      "source": [
        "### **Key Observations:**\n",
        "\n",
        "**Urban Percentage,**\n",
        "- Bimodal distribution: Peaks at low (20%) and high (100%) urbanization levels.\n",
        "- Suggests some countries are highly urbanized while others remain rural.\n",
        "\n",
        "**Rural At Least Basic:**\n",
        "- Strong peak around 75 to 80%: Suggests many regions have moderate water access.\n",
        "- Some outliers near 40% and 100% which indicates extreme disparities in rural areas.\n",
        "\n",
        "**Safely Managed Available & Contamination-Free:**\n",
        "- Data appears highly skewed, with most values clustering around 4-5%.\n",
        "- Indicates very few regions have widespread access to safely managed water.\n",
        "\n",
        "**Piped Water & Non-Piped Water:**\n",
        "- Piped water is concentrated around 2.6%, indicating that most regions have very limited piped water.\n",
        "- Non-Piped Water includes some negative values"
      ],
      "metadata": {
        "id": "SjBI2zW0_hww"
      }
    },
    {
      "cell_type": "markdown",
      "source": [
        "### **Correlation Heatmap:**"
      ],
      "metadata": {
        "id": "iIVNN2BfBNAN"
      }
    },
    {
      "cell_type": "code",
      "source": [
        "# Generating a correlation matrix\n",
        "plt.figure(figsize=(12, 6))\n",
        "sns.heatmap(df_cleaned.select_dtypes(include=np.number).corr(), annot=True, cmap=\"coolwarm\", fmt=\".2f\", linewidths=0.5) # Select only numerical features for correlation\n",
        "plt.title(\"Feature Correlation Heatmap\")\n",
        "plt.show()\n"
      ],
      "metadata": {
        "id": "l_vAWrzpBRm-"
      },
      "execution_count": null,
      "outputs": []
    },
    {
      "cell_type": "markdown",
      "source": [
        "### **Key Observations:**\n",
        "\n",
        "**Strong Negative Correlation (-0.85) between Rural_At_Least_Basic & Rural_Unimproved,**\n",
        "- This Makes sense as rural areas have basic water access, they are less likely to have unimproved sources.\n",
        "- This supports using these variables in predictive models.\n",
        "Moderate Positive Correlation Between Rural_Limited & Rural_Unimproved (0.35).\n",
        "- If water access is limited, it is more likely to be unimproved.\n",
        "\n",
        "**Annual Change in basic water access positively correlates with Non-Piped Water (0.79),**\n",
        "- Countries increasing water access rely on non-piped sources first before transitioning to piped water.\n",
        "\n",
        "**Weak Correlation Between Piped Water & Other Factors,**\n",
        "- Suggests that piped water supply isn’t growing significantly in rural areas.\n",
        "- This may indicate infrastructure challenges in many countries."
      ],
      "metadata": {
        "id": "A0fatL_REokN"
      }
    },
    {
      "cell_type": "markdown",
      "source": [
        "### **Comparing Urban vs Rural Water Access:**"
      ],
      "metadata": {
        "id": "kkn5uh8FDPIR"
      }
    },
    {
      "cell_type": "code",
      "source": [
        "# Plotting a Scatterplot\n",
        "plt.figure(figsize=(10,6))\n",
        "sns.scatterplot(x=df_cleaned[\"Urban_Percentage\"], y=df_cleaned[\"Rural_At_Least_Basic\"], alpha=0.5)\n",
        "plt.title(\"Urbanization vs. Rural Water Access\")\n",
        "plt.xlabel(\"Urbanization Percentage\")\n",
        "plt.ylabel(\"Rural At Least Basic Water Access\")\n",
        "plt.show()"
      ],
      "metadata": {
        "id": "9agQzorjDI6q"
      },
      "execution_count": null,
      "outputs": []
    },
    {
      "cell_type": "markdown",
      "source": [
        "### **Key Observations:**\n",
        "**No Strong Linear Trend,**\n",
        "\n",
        "- High urbanization (80 to 100%) does not necessarily mean better rural water access.\n",
        "- Many highly urbanized regions still have low rural water access (40%).\n",
        "\n",
        "**Clusters at 100% Water Access,**\n",
        "- Many countries have perfect water access (100%), regardless of urbanization.\n",
        "- Likely represents developed countries or those with strong water policies.\n",
        "\n",
        "**Struggling Regions (40 to 60% Water Access),**\n",
        "- These countries seem spread across all urbanization levels, suggesting water access issues are not just a rural problem.\n",
        "- Indicates policy or infrastructure challenges rather than just urbanization effects."
      ],
      "metadata": {
        "id": "6aKup7kBD6qX"
      }
    },
    {
      "cell_type": "markdown",
      "source": [
        "### **Classifying Every Country by Continent:**"
      ],
      "metadata": {
        "id": "oz28Wp_WMtnv"
      }
    },
    {
      "cell_type": "code",
      "source": [
        "# Using a function to get continent from country name\n",
        "def get_continent(country):\n",
        "    try:\n",
        "        country_code = country_name_to_country_alpha2(country)\n",
        "        continent_code = country_alpha2_to_continent_code(country_code)\n",
        "        return convert_continent_code_to_continent_name(continent_code)\n",
        "    except:\n",
        "        return \"Other\"  # If country is not found, classify as \"Other\"\n",
        "\n",
        "# Applying continent mapping\n",
        "df_cleaned[\"Continent\"] = df_cleaned[\"Country\"].apply(get_continent)\n",
        "\n",
        "# Checking for unique continent values\n",
        "df_cleaned[\"Continent\"].value_counts()\n",
        "\n"
      ],
      "metadata": {
        "id": "LWoFRT0UH8QF"
      },
      "execution_count": null,
      "outputs": []
    },
    {
      "cell_type": "code",
      "source": [
        "# Plotting a Boxplot\n",
        "plt.figure(figsize=(10,6))\n",
        "sns.boxplot(x=\"Continent\", y=\"Rural_At_Least_Basic\", data=df_cleaned)\n",
        "plt.xticks(rotation=45)  # Rotate labels for better readability\n",
        "plt.title(\"Distribution of Rural Water Access Across Continents\")\n",
        "plt.xlabel(\"Continent\")\n",
        "plt.ylabel(\"Rural At Least Basic Water Access (%)\")\n",
        "plt.show()"
      ],
      "metadata": {
        "id": "mMVsP-XFMewO"
      },
      "execution_count": null,
      "outputs": []
    },
    {
      "cell_type": "markdown",
      "source": [
        "###**Key Observations:**\n",
        "\n",
        "\n",
        "- **Europe & North America:** Highest median water access with least variation (consistent high access).\n",
        "- **Africa:** Lowest median access with highest variation (huge disparity among countries). The widest interquartile range (IQR) shows extreme disparities in access.\n",
        "- **Asia & South America:** Moderate water access, but South America has slightly more variation. Moderate access but several outliers indicating inequality.\n",
        "- **Oceania:** Mixed access, with some low outliers indicating disparities. Has both high and very low values, suggesting regional inconsistency.\n",
        "- **Other:** Some countries that are still not assigned a continent.\n",
        "\n"
      ],
      "metadata": {
        "id": "L602Zy1uNo4Z"
      }
    },
    {
      "cell_type": "markdown",
      "source": [
        "### **Time trends in Water Access:**"
      ],
      "metadata": {
        "id": "TZEdFzThJZ4U"
      }
    },
    {
      "cell_type": "code",
      "source": [
        "# Plotting a Line Chart for both Rural and Urban Water Access\n",
        "plt.figure(figsize=(10,6))\n",
        "\n",
        "# Rural Water Access Trend\n",
        "sns.lineplot(x=\"Year\", y=\"Rural_At_Least_Basic\", data=df_cleaned, estimator=\"mean\", label=\"Rural Access\", linewidth=2)\n",
        "\n",
        "# Urban Water Access Trend\n",
        "sns.lineplot(x=\"Year\", y=\"Urban_Percentage\", data=df_cleaned, estimator=\"mean\", label=\"Urban Access\", linewidth=2)\n",
        "plt.title(\"Trend of Rural and Urban Water Access Over Time\")\n",
        "plt.xlabel(\"Year\")\n",
        "plt.ylabel(\"Average Water Access (%)\")\n",
        "plt.legend()\n",
        "plt.show()\n"
      ],
      "metadata": {
        "id": "P4fbG-wRJeKn"
      },
      "execution_count": null,
      "outputs": []
    },
    {
      "cell_type": "markdown",
      "source": [
        "### **Key Obervations:**\n",
        "\n",
        "- Rural Water Access has been increasing steadily over the years, reaching nearly 78-80% in recent years.\n",
        "- Urban Water Access is consistently lower than rural access, but it is also improving over time, reaching around 65% in recent years.\n",
        "- The gap between rural and urban access remains significant despite overall improvements.\n",
        "- The shaded regions indicate variability, meaning that while most countries follow this trend, there are still disparities across regions."
      ],
      "metadata": {
        "id": "srbXt8m2PLLk"
      }
    },
    {
      "cell_type": "markdown",
      "source": [
        "# **Modeling (Regression)**"
      ],
      "metadata": {
        "id": "mCovHwE7ag5P"
      }
    },
    {
      "cell_type": "markdown",
      "source": [
        "### **Linear Regression, Decision Tree, Random Forest, K Nearest Neighbors (KNN) Models:**"
      ],
      "metadata": {
        "id": "WZbAxxK4kMeY"
      }
    },
    {
      "cell_type": "code",
      "source": [
        "# Selecting the features (X) and target variable (y)\n",
        "X = df_cleaned.drop(columns=['Rural_At_Least_Basic', 'Country', 'ISO3', 'WHO_Region', 'SDG_Region', 'UNICEF_Reporting_Region', 'Continent'])  # Dropping 'Continent'\n",
        "y = df_cleaned['Rural_At_Least_Basic']\n",
        "\n",
        "# Splitting data into train and test sets\n",
        "X_train, X_test, y_train, y_test = train_test_split(X, y, test_size=0.2, random_state=42)\n",
        "\n",
        "# Scaling the features\n",
        "scaler = StandardScaler()\n",
        "X_train_scaled = scaler.fit_transform(X_train)\n",
        "X_test_scaled = scaler.transform(X_test)\n",
        "\n",
        "# Creating a dictionary to store models and results\n",
        "models = {\n",
        "    \"Linear Regression\": LinearRegression(),\n",
        "    \"Decision Tree\": DecisionTreeRegressor(random_state=42),\n",
        "    \"Random Forest\": RandomForestRegressor(n_estimators=100, random_state=42),\n",
        "    \"KNN Regressor\": KNeighborsRegressor(n_neighbors=5)  # Added KNN model\n",
        "}\n",
        "\n",
        "# Training and testing models\n",
        "for name, model in models.items():\n",
        "    model.fit(X_train_scaled, y_train)\n",
        "    y_pred = model.predict(X_test_scaled)\n",
        "\n",
        "    # Calculating the evaluation metrics\n",
        "    mae = mean_absolute_error(y_test, y_pred)\n",
        "    mse = mean_squared_error(y_test, y_pred)\n",
        "    r2 = r2_score(y_test, y_pred)\n",
        "\n",
        "    print(f\"Model: {name}\")\n",
        "    print(f\"Mean Absolute Error: {mae:.2f}\")\n",
        "    print(f\"Mean Squared Error: {mse:.2f}\")\n",
        "    print(f\"R2 Score: {r2:.2f}\\n\")\n"
      ],
      "metadata": {
        "id": "3cwTJx_vUOxt"
      },
      "execution_count": null,
      "outputs": []
    },
    {
      "cell_type": "markdown",
      "source": [
        "### **Visualizing the Results:**"
      ],
      "metadata": {
        "id": "KxGdPdnukbtU"
      }
    },
    {
      "cell_type": "code",
      "source": [
        "# Defining the models and their evaluation metrics\n",
        "models = [\"Linear Regression\", \"Decision Tree\", \"Random Forest\", \"KNN Regressor\"]\n",
        "\n",
        "# Updated evaluation metrics\n",
        "mae_scores = [4.66, 0.80, 0.70, 0.92]  # Mean Absolute Error\n",
        "mse_scores = [50.78, 7.23, 4.22, 5.18]  # Mean Squared Error\n",
        "r2_scores = [0.82, 0.97, 0.99, 0.98]  # R2 Score\n",
        "\n",
        "# Creating a figure with subplots for MAE and MSE\n",
        "fig, ax = plt.subplots(1, 2, figsize=(12, 5))\n",
        "\n",
        "# Plotting the Mean Absolute Error\n",
        "ax[0].bar(models, mae_scores, color=['red', 'blue', 'green', 'orange'])\n",
        "ax[0].set_title(\"Mean Absolute Error (Lower is Better)\")\n",
        "ax[0].set_ylabel(\"MAE\")\n",
        "ax[0].set_ylim(0, max(mae_scores) + 1)\n",
        "ax[0].set_xticklabels(models, rotation=45)\n",
        "\n",
        "# Plotting the Mean Squared Error\n",
        "ax[1].bar(models, mse_scores, color=['red', 'blue', 'green', 'orange'])\n",
        "ax[1].set_title(\"Mean Squared Error (Lower is Better)\")\n",
        "ax[1].set_ylabel(\"MSE\")\n",
        "ax[1].set_ylim(0, max(mse_scores) + 5)\n",
        "ax[1].set_xticklabels(models, rotation=45)\n",
        "\n",
        "plt.show()\n",
        "\n",
        "# Creating a separate figure for R2 Scores\n",
        "plt.figure(figsize=(8, 5))\n",
        "plt.bar(models, r2_scores, color=['red', 'blue', 'green', 'orange'])\n",
        "plt.title(\"R2 Score (Higher is Better)\")\n",
        "plt.ylabel(\"R2 Score\")\n",
        "plt.ylim(0, 1.1)\n",
        "plt.xticks(rotation=45)\n",
        "\n",
        "plt.show()"
      ],
      "metadata": {
        "id": "6w5IET98jZVl"
      },
      "execution_count": null,
      "outputs": []
    },
    {
      "cell_type": "markdown",
      "source": [
        "### **Key Observations:**\n",
        "- **Random Forest Regressor** performed the best overall. It had the lowest Mean Absolute Error (MAE) (0.70) and Mean Squared Error (MSE) (4.22). The R² score (0.99) indicates an excellent fit to the data, making it the most accurate model.\n",
        "- **K-Nearest Neighbors (KNN) Regressor** showed competitive performance with an MAE of 0.92 and an MSE of 5.18. The R² score (0.98) suggests that KNN captured the data patterns well, but it was slightly weaker compared to the Random Forest model.\n",
        "- **Decision Tree** is the second-best model, with an MAE of 0.80 and an MSE of 7.23. The R² score (0.97) is still very strong, but the higher error values suggest it does not generalize as well as Random Forest.\n",
        "- **Linear Regression** was the weakest performer. It had the highest MAE (4.66) and MSE (50.78), indicating large prediction errors. The R² score (0.82) was significantly lower than the other models, showing that it struggles to capture complex patterns in the data.\n",
        "\n",
        "**Insights from the Visualization:**\n",
        "- The bar charts confirm that Linear Regression had the highest error rates, making it the least suitable for this task.\n",
        "- Random Forest and Decision Tree had the lowest errors, making them the most reliable models.\n",
        "- KNN performed well, but its errors were slightly higher than the Decision Tree and Random Forest models.\n",
        "\n",
        "**Conclusion:**\n",
        "- Random Forest Regressor is the best model for predicting clean drinking water access due to its superior accuracy and minimal errors.\n",
        "- Decision Tree performed well and is a strong alternative, but it may not generalize as effectively as Random Forest.\n",
        "- KNN showed strong performance, but slightly higher errors make it less optimal than Random Forest.\n",
        "- Linear Regression is not suitable for this dataset as it struggles to capture complex relationships."
      ],
      "metadata": {
        "id": "IoEvAA3Zj-mv"
      }
    },
    {
      "cell_type": "markdown",
      "source": [
        "# **Modeling (Classification)**"
      ],
      "metadata": {
        "id": "pfD_uHW5SqwI"
      }
    },
    {
      "cell_type": "markdown",
      "source": [
        "### **Logistic Regression, Decision Tree, Random Forest, K Nearest Neighbors (KNN) Models:**"
      ],
      "metadata": {
        "id": "hw8TyniXmA2y"
      }
    },
    {
      "cell_type": "code",
      "source": [
        "# Converting the target variable into binary classification\n",
        "threshold = df_cleaned[\"Rural_At_Least_Basic\"].median()  # Use median as the threshold\n",
        "df_cleaned[\"Water_Access_Class\"] = (df_cleaned[\"Rural_At_Least_Basic\"] >= threshold).astype(int)\n",
        "\n",
        "# Selecting the Features (X) and Target (Y)\n",
        "X = df_cleaned.drop(columns=['Rural_At_Least_Basic', 'Water_Access_Class', 'Country', 'ISO3', 'WHO_Region', 'SDG_Region', 'UNICEF_Reporting_Region', 'Continent'])\n",
        "y = df_cleaned[\"Water_Access_Class\"]\n",
        "\n",
        "# Splitting the Data into Train and Test Sets\n",
        "X_train, X_test, y_train, y_test = train_test_split(X, y, test_size=0.2, random_state=42)\n",
        "\n",
        "# Scaling the Features\n",
        "scaler = StandardScaler()\n",
        "X_train_scaled = scaler.fit_transform(X_train)\n",
        "X_test_scaled = scaler.transform(X_test)\n",
        "\n",
        "# Defining the Classification Models\n",
        "classification_models = {\n",
        "    \"Logistic Regression\": LogisticRegression(),\n",
        "    \"Decision Tree\": DecisionTreeClassifier(random_state=42),\n",
        "    \"Random Forest\": RandomForestClassifier(n_estimators=100, random_state=42),\n",
        "    \"KNN Classifier\": KNeighborsClassifier(n_neighbors=5)\n",
        "}\n",
        "\n",
        "# Training and Evaluating the Models\n",
        "for name, model in classification_models.items():\n",
        "    model.fit(X_train_scaled, y_train)\n",
        "    y_pred = model.predict(X_test_scaled)\n",
        "\n",
        "# Evaluating the Model Performance\n",
        "    accuracy = accuracy_score(y_test, y_pred)\n",
        "    print(f\"Model: {name}\")\n",
        "    print(f\"Accuracy: {accuracy:.2f}\")\n",
        "    print(\"Classification Report:\")\n",
        "    print(classification_report(y_test, y_pred))\n",
        "    print(\"-\" * 50)"
      ],
      "metadata": {
        "id": "7X2OBJMOm5S4"
      },
      "execution_count": null,
      "outputs": []
    },
    {
      "cell_type": "markdown",
      "source": [
        "### **Visualizing the Results:**"
      ],
      "metadata": {
        "id": "btyYxBhZoQJo"
      }
    },
    {
      "cell_type": "code",
      "source": [
        "# Defining the models\n",
        "models = {\n",
        "    \"Logistic Regression\": LogisticRegression(),\n",
        "    \"Decision Tree\": DecisionTreeClassifier(random_state=42),\n",
        "    \"Random Forest\": RandomForestClassifier(n_estimators=100, random_state=42),\n",
        "    \"KNN Classifier\": KNeighborsClassifier(n_neighbors=5)\n",
        "}\n",
        "\n",
        "# Training the models and plotting confusion matrices\n",
        "fig, axes = plt.subplots(2, 2, figsize=(12, 10))\n",
        "axes = axes.flatten()\n",
        "\n",
        "for i, (name, model) in enumerate(models.items()):\n",
        "    model.fit(X_train_scaled, y_train)  # Train\n",
        "    y_pred = model.predict(X_test_scaled)  # Predict\n",
        "\n",
        "    # Computing the confusion matrix\n",
        "    cm = confusion_matrix(y_test, y_pred)\n",
        "\n",
        "    # Plotting the confusion matrix\n",
        "    sns.heatmap(cm, annot=True, fmt=\"d\", cmap=\"Blues\", ax=axes[i])\n",
        "    axes[i].set_title(f\"{name} Confusion Matrix\")\n",
        "    axes[i].set_xlabel(\"Predicted Label\")\n",
        "    axes[i].set_ylabel(\"True Label\")\n",
        "\n",
        "plt.tight_layout()\n",
        "plt.show()"
      ],
      "metadata": {
        "id": "SKH2Bk1YoX9u"
      },
      "execution_count": null,
      "outputs": []
    },
    {
      "cell_type": "markdown",
      "source": [
        "### **Key Observations:**\n",
        "**Overall Model Performance,**\n",
        "\n",
        "All models (Logistic Regression, Decision Tree, Random Forest, and KNN) demonstrate high accuracy, exceeding 95% in classification performance.\n",
        "The precision, recall, and F1-scores for both classes (0 and 1) are consistently high, indicating strong predictive capabilities.\n",
        "\n",
        "**Confusion Matrix Insights,**\n",
        "- Random Forest has the lowest classification errors (2 false positives and 4 false negatives), making it the most reliable model in terms of precision and recall.\n",
        "- Decision Tree and KNN Classifiers show very similar performance, with slightly more false positives and false negatives than Random Forest.\n",
        "- Logistic Regression has the highest number of false negatives (49) compared to other models, suggesting that it struggles to correctly classify some instances of the minority class.\n",
        "\n",
        "**Comparison of Models,**\n",
        "- Logistic Regression achieves 95% accuracy, but has higher false negatives (49) compared to tree-based models. It might struggle to learn complex decision boundaries. But is still a good choice when computational efficiency is a priority.\n",
        "- Decision Tree & KNN Classifier: Both achieve 99% accuracy with very few misclassified points, making them robust choices. Decision Tree is highly interpretable but prone to overfitting. KNN adapts well to complex data but can be computationally expensive.\n",
        "- Random Forest: Outperforms all models with the highest precision and recall, showing its strength in reducing overfitting and capturing intricate patterns in data.\n",
        "\n",
        "**Trade-offs Between Models,**\n",
        "- Logistic Regression is computationally efficient but sacrifices accuracy, especially for complex patterns.\n",
        "- Decision Tree is interpretable but prone to overfitting.\n",
        "- Random Forest achieves the highest precision and recall, making it the best choice for accuracy and reliability.\n",
        "- KNN provides strong performance but may not scale well for large datasets due to computational complexity.\n",
        "\n",
        "**Conclusion,**\n",
        "- Random Forest is the best model due to its highest precision, recall, and lowest misclassification rate.\n",
        "- If interpretability is crucial, Decision Tree is a good choice.\n",
        "- KNN is also reliable, but it can be computationally expensive on large datasets.\n",
        "- Logistic Regression should be used if a simpler, linear model is preferred, despite its slightly lower accuracy."
      ],
      "metadata": {
        "id": "cecd2IKepVPE"
      }
    },
    {
      "cell_type": "markdown",
      "source": [
        "# **Modeling (Clustering)**"
      ],
      "metadata": {
        "id": "YnYoMMudStpT"
      }
    },
    {
      "cell_type": "markdown",
      "source": [
        "### **K-Means, Hierarchical, and DBSCAN Clustering:**"
      ],
      "metadata": {
        "id": "YdkFdGLJqnTX"
      }
    },
    {
      "cell_type": "code",
      "source": [
        "# Selecting the relevant numerical features for clustering\n",
        "features = ['Urban_Percentage', 'Rural_At_Least_Basic', 'Safely_Managed_Available', 'Piped_Water']\n",
        "df_clustering = df_cleaned[features].dropna()  # Drop missing values\n",
        "\n",
        "# Standardizing the features\n",
        "scaler = StandardScaler()\n",
        "df_scaled = scaler.fit_transform(df_clustering)"
      ],
      "metadata": {
        "id": "MTSuFls5dFOu"
      },
      "execution_count": null,
      "outputs": []
    },
    {
      "cell_type": "code",
      "source": [
        "# Using Elbow Method to find optimal K for K-Means\n",
        "inertia = []\n",
        "silhouette_scores = []\n",
        "K_range = range(2, 11)\n",
        "\n",
        "for k in K_range:\n",
        "    kmeans = KMeans(n_clusters=k, random_state=42, n_init=10)\n",
        "    kmeans.fit(df_scaled)\n",
        "    inertia.append(kmeans.inertia_)\n",
        "    silhouette_scores.append(silhouette_score(df_scaled, kmeans.labels_))\n",
        "\n",
        "# Plotting the Elbow Method\n",
        "plt.figure(figsize=(10, 5))\n",
        "plt.plot(K_range, inertia, marker='o', linestyle='-', color='b')\n",
        "plt.xlabel('Number of Clusters (K)')\n",
        "plt.ylabel('Inertia')\n",
        "plt.title('Elbow Method for Optimal K')\n",
        "plt.show()\n",
        "\n",
        "# Plotting the Silhouette Score\n",
        "plt.figure(figsize=(10, 5))\n",
        "plt.plot(K_range, silhouette_scores, marker='o', linestyle='-', color='g')\n",
        "plt.xlabel('Number of Clusters (K)')\n",
        "plt.ylabel('Silhouette Score')\n",
        "plt.title('Silhouette Score for Optimal K')\n",
        "plt.show()"
      ],
      "metadata": {
        "id": "tBNmpUAPfO3V"
      },
      "execution_count": null,
      "outputs": []
    },
    {
      "cell_type": "code",
      "source": [
        "# Applying K-Means with optimal K (assuming K=3 based on elbow method)\n",
        "optimal_k = 3\n",
        "kmeans = KMeans(n_clusters=optimal_k, random_state=42, n_init=10)\n",
        "df_clustering['KMeans_Cluster'] = kmeans.fit_predict(df_scaled)\n",
        "\n",
        "# Visualizing the 3 K-Means Clusters\n",
        "plt.figure(figsize=(8, 6))\n",
        "sns.scatterplot(x=df_clustering['Urban_Percentage'], y=df_clustering['Rural_At_Least_Basic'],\n",
        "                hue=df_clustering['KMeans_Cluster'], palette='viridis', alpha=0.7)\n",
        "plt.xlabel('Urban Percentage')\n",
        "plt.ylabel('Rural At Least Basic Water Access')\n",
        "plt.title('K-Means Clustering')\n",
        "plt.legend(title='Cluster')\n",
        "plt.show()\n"
      ],
      "metadata": {
        "id": "8fXh-Xn1fV8F"
      },
      "execution_count": null,
      "outputs": []
    },
    {
      "cell_type": "code",
      "source": [
        "# Performing hierarchical clustering\n",
        "linked = linkage(df_scaled, method='ward')\n",
        "\n",
        "# Dendrogram for Hierarchical Clustering\n",
        "plt.figure(figsize=(12, 6))\n",
        "dendrogram(linked, orientation='top', distance_sort='descending', show_leaf_counts=True)\n",
        "plt.title('Hierarchical Clustering Dendrogram')\n",
        "plt.xlabel('Data Points')\n",
        "plt.ylabel('Euclidean Distance')\n",
        "plt.show()"
      ],
      "metadata": {
        "id": "ruix_yz0fdOb"
      },
      "execution_count": null,
      "outputs": []
    },
    {
      "cell_type": "code",
      "source": [
        "# Applying DBSCAN clustering\n",
        "dbscan = DBSCAN(eps=1, min_samples=5)\n",
        "df_clustering['DBSCAN_Cluster'] = dbscan.fit_predict(df_scaled)\n",
        "\n",
        "# Visualizing DBSCAN Clusters\n",
        "plt.figure(figsize=(8, 6))\n",
        "sns.scatterplot(x=df_clustering['Urban_Percentage'], y=df_clustering['Rural_At_Least_Basic'],\n",
        "                hue=df_clustering['DBSCAN_Cluster'], palette='deep', alpha=0.7)\n",
        "plt.xlabel('Urban Percentage')\n",
        "plt.ylabel('Rural At Least Basic Water Access')\n",
        "plt.title('DBSCAN Clustering')\n",
        "plt.legend(title='Cluster')\n",
        "plt.show()\n"
      ],
      "metadata": {
        "id": "tvXko4eGfo8L"
      },
      "execution_count": null,
      "outputs": []
    },
    {
      "cell_type": "code",
      "source": [
        "# Evaluating K-Means Clustering Performance\n",
        "kmeans_silhouette = silhouette_score(df_scaled, df_clustering['KMeans_Cluster'])\n",
        "print(f\"K-Means Silhouette Score: {kmeans_silhouette:.2f}\")\n",
        "\n",
        "# Evaluating DBSCAN Clustering Performance\n",
        "if len(set(df_clustering['DBSCAN_Cluster'])) > 1:\n",
        "    dbscan_silhouette = silhouette_score(df_scaled, df_clustering['DBSCAN_Cluster'])\n",
        "    print(f\"DBSCAN Silhouette Score: {dbscan_silhouette:.2f}\")\n",
        "else:\n",
        "    print(\"DBSCAN did not form meaningful clusters.\")\n"
      ],
      "metadata": {
        "id": "77-OaSAnfuZ-"
      },
      "execution_count": null,
      "outputs": []
    },
    {
      "cell_type": "markdown",
      "source": [
        "### **Key Observations:**\n",
        "**Optimal Number of Clusters (Elbow & Silhouette Score),**\n",
        "- The Elbow Method suggests that the optimal number of clusters is around 3 or 4, as the inertia curve starts to level off after this point.\n",
        "- The Silhouette Score confirms that K = 3 is the best choice, yielding the highest score of 0.55.\n",
        "- Clustering with a higher number of clusters (K > 4) results in diminishing silhouette scores, indicating less defined clusters.\n",
        "\n",
        "**K-Means Clustering,**\n",
        "- The K-Means clustering plot shows three well-separated clusters based on Urban Percentage and Rural Basic Water Access.\n",
        "- One cluster represents high rural water access with high urbanization.\n",
        "- Another cluster includes moderate rural water access with varying urbanization.\n",
        "- The final cluster represents low rural water access, generally corresponding to lower urbanization.\n",
        "\n",
        "**Hierarchical Clustering,**\n",
        "- The dendrogram suggests a natural grouping into three or four clusters, aligning with the findings from K-Means.\n",
        "- The hierarchical structure reveals that some countries share strong similarities in water access patterns before diverging into subgroups.\n",
        "- This method provides an interpretable tree-like structure that may be useful for policymakers analyzing regional disparities.\n",
        "\n",
        "**DBSCAN Clustering,**\n",
        "- DBSCAN did not perform well, as seen in the clustering plot.\n",
        "- Most data points were assigned to a single cluster, indicating poor separation between regions.\n",
        "- The silhouette score for DBSCAN is only 0.12, confirming that this approach struggles with the dataset’s structure.\n",
        "\n",
        "**Conclusion,**\n",
        "- K-Means is the best clustering method for this dataset, as it provides well-defined groups with a high silhouette score.\n",
        "- Hierarchical clustering is useful for interpretation but does not significantly outperform K-Means.\n",
        "- DBSCAN is not suitable for this dataset, as it fails to capture meaningful clusters."
      ],
      "metadata": {
        "id": "p9iQ8G-yhiWv"
      }
    },
    {
      "cell_type": "markdown",
      "source": [
        "# **Evaluation & Conclusion**"
      ],
      "metadata": {
        "id": "myI6ntjZqne1"
      }
    },
    {
      "cell_type": "code",
      "source": [
        "# Model Names\n",
        "models = [\"Random Forest (Reg)\", \"KNN (Reg)\", \"Decision Tree (Reg)\", \"Linear Regression\",\n",
        "          \"Random Forest (Class)\", \"KNN (Class)\", \"Decision Tree (Class)\", \"Logistic Regression\",\n",
        "          \"K-Means (Cluster)\", \"DBSCAN (Cluster)\"]\n",
        "\n",
        "# Regression Metrics (Lower is Better for MAE & MSE, Higher is Better for R²)\n",
        "mae_scores = [0.70, 0.92, 0.80, 4.66, None, None, None, None, None, None]  # Regression only\n",
        "mse_scores = [4.22, 5.18, 7.23, 50.78, None, None, None, None, None, None]  # Regression only\n",
        "r2_scores = [0.99, 0.98, 0.97, 0.82, None, None, None, None, None, None]  # Regression only\n",
        "\n",
        "# Classification Metrics (Higher is Better)\n",
        "accuracy_scores = [None, None, None, None, 0.99, 0.99, 0.99, 0.95, None, None]  # Classification only\n",
        "\n",
        "# Clustering Metrics (Higher Silhouette Score is Better)\n",
        "silhouette_scores = [None, None, None, None, None, None, None, None, 0.55, 0.12]  # Clustering only\n",
        "\n",
        "# Plotting Comparison\n",
        "fig, ax = plt.subplots(2, 2, figsize=(14, 10))\n",
        "\n",
        "# Regression Metrics\n",
        "ax[0, 0].bar(models[:4], mae_scores[:4], color=['green', 'orange', 'blue', 'red'])\n",
        "ax[0, 0].set_title(\"Mean Absolute Error (Lower is Better)\")\n",
        "ax[0, 0].set_ylabel(\"MAE\")\n",
        "ax[0, 0].set_ylim(0, max(mae_scores[:4]) + 1)\n",
        "\n",
        "ax[0, 1].bar(models[:4], mse_scores[:4], color=['green', 'orange', 'blue', 'red'])\n",
        "ax[0, 1].set_title(\"Mean Squared Error (Lower is Better)\")\n",
        "ax[0, 1].set_ylabel(\"MSE\")\n",
        "ax[0, 1].set_ylim(0, max(mse_scores[:4]) + 10)\n",
        "\n",
        "ax[1, 0].bar(models[:4], r2_scores[:4], color=['green', 'orange', 'blue', 'red'])\n",
        "ax[1, 0].set_title(\"R² Score (Higher is Better)\")\n",
        "ax[1, 0].set_ylabel(\"R²\")\n",
        "ax[1, 0].set_ylim(0, 1.1)\n",
        "\n",
        "# Classification Accuracy\n",
        "ax[1, 1].bar(models[4:8], accuracy_scores[4:8], color=['green', 'orange', 'blue', 'red'])\n",
        "ax[1, 1].set_title(\"Classification Accuracy (Higher is Better)\")\n",
        "ax[1, 1].set_ylabel(\"Accuracy\")\n",
        "ax[1, 1].set_ylim(0.9, 1)\n",
        "\n",
        "plt.xticks(rotation=45)\n",
        "plt.tight_layout()\n",
        "plt.show()\n",
        "\n",
        "# Clustering Silhouette Scores\n",
        "plt.figure(figsize=(8, 5))\n",
        "plt.bar(models[8:], silhouette_scores[8:], color=['purple', 'brown'])\n",
        "plt.title(\"Clustering Silhouette Scores (Higher is Better)\")\n",
        "plt.ylabel(\"Silhouette Score\")\n",
        "plt.ylim(0, 1)\n",
        "plt.xticks(rotation=45)\n",
        "plt.show()\n"
      ],
      "metadata": {
        "id": "0ssY0l4MlQYS"
      },
      "execution_count": null,
      "outputs": []
    },
    {
      "cell_type": "markdown",
      "source": [
        "### **Selecting the Overall Best Model:**\n",
        "\n",
        "**Regression Models,**\n",
        "- Random Forest Regressor performed the best, with the lowest Mean Absolute Error (MAE) and Mean Squared Error (MSE), and the highest R² score, indicating strong predictive power.\n",
        "- K-Nearest Neighbors (KNN) Regressor also performed well but had slightly higher error values.\n",
        "- Linear Regression performed the worst, struggling to capture the complex relationships in the data.\n",
        "- **Best Regression Model:** *Random Forest Regressor*\n",
        "\n",
        "**Classification Models,**\n",
        "- Random Forest, Decision Tree, and KNN classifiers all performed excellently, achieving 99% accuracy.\n",
        "- Logistic Regression had the lowest accuracy (around 95%), making it less suitable for this task.\n",
        "- **Best Classification Model:** *Random Forest Classifier*\n",
        "\n",
        "**Clustering Models,**\n",
        "- K-Means Clustering had a significantly higher silhouette score (0.55) compared to DBSCAN (0.12), indicating that K-Means formed more well-defined clusters.\n",
        "- DBSCAN struggled with identifying meaningful clusters, likely due to the nature of the dataset.\n",
        "- **Best Clustering Model:** *K-Means Clustering*\n",
        "\n",
        "### **Overall Best Model:**\n",
        "- Random Forest models dominated in both Regression and Classification tasks, proving to be the most reliable across different types of predictions.\n",
        "- For clustering, K-Means was the most effective method.\n",
        "- Thus, if we need to recommend a single most effective modeling approach, **Random Forest** emerges as the best option due to its strong performance in both regression and classification.\n",
        "\n"
      ],
      "metadata": {
        "id": "GicRXO_xlukh"
      }
    },
    {
      "cell_type": "markdown",
      "source": [
        "###**Using the best overall model on the dataset:**"
      ],
      "metadata": {
        "id": "dVZMbYjY0O26"
      }
    },
    {
      "cell_type": "code",
      "source": [
        "# Using the best model: Random Forest Regressor\n",
        "best_model = RandomForestRegressor(n_estimators=100, random_state=42)\n",
        "\n",
        "# Training the model on the full dataset\n",
        "best_model.fit(X_train_scaled, y_train)\n",
        "\n",
        "# Making the predictions\n",
        "y_pred = best_model.predict(X_test_scaled)\n",
        "\n",
        "# Evaluating the model performance\n",
        "mae = mean_absolute_error(y_test, y_pred)\n",
        "mse = mean_squared_error(y_test, y_pred)\n",
        "r2 = r2_score(y_test, y_pred)\n",
        "\n",
        "# Printing evaluation results\n",
        "print(\"Final Model Performance on Test Data:\")\n",
        "print(f\"Mean Absolute Error (MAE): {mae:.2f}\")\n",
        "print(f\"Mean Squared Error (MSE): {mse:.2f}\")\n",
        "print(f\"R² Score: {r2:.2f}\")\n",
        "\n",
        "# Plotting actual vs predicted values\n",
        "plt.figure(figsize=(8, 6))\n",
        "plt.scatter(y_test, y_pred, alpha=0.5, color=\"blue\", label=\"Predictions\")\n",
        "plt.plot([min(y_test), max(y_test)], [min(y_test), max(y_test)], linestyle=\"--\", color=\"red\", label=\"Perfect Fit\")\n",
        "plt.xlabel(\"Actual Values\")\n",
        "plt.ylabel(\"Predicted Values\")\n",
        "plt.title(\"Actual vs Predicted Values (Random Forest Regressor)\")\n",
        "plt.legend()\n",
        "plt.show()"
      ],
      "metadata": {
        "id": "tDO_6ZJMzgen"
      },
      "execution_count": null,
      "outputs": []
    },
    {
      "cell_type": "markdown",
      "source": [
        "###**Conclusion:**\n",
        "After selecting the Random Forest Regressor as the best-performing model, it was applied to the dataset to generate predictions for rural water access levels. The model evaluation gave: an MAE of 0.02, MSE of 0.01, and R2 score of 0.97, which all represent a very accurate prediction.\n",
        "\n",
        "The plot of actual versus predicted values confirmed that the model was successful in capturing the distribution of water access levels, with most predictions hovering around the predicted values. A near-perfect diagonal line on the plot indicates low error and strong model fit.\n",
        "\n",
        "Overall, this results show that the Random Forest Regressor is a viable means of assessing water accessibility,providing policymakers with valuable insights for resource allocation and infrastructure planning. urther enhancements, such as incorporating additional socioeconomic and climate-related factors, could improve the model’s robustness for long-term decision-making."
      ],
      "metadata": {
        "id": "rtCNIFjf0nE5"
      }
    }
  ]
}